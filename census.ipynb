{
 "cells": [
  {
   "cell_type": "code",
   "execution_count": 25,
   "metadata": {},
   "outputs": [
    {
     "name": "stderr",
     "output_type": "stream",
     "text": [
      "C:\\Users\\sakpa\\AppData\\Local\\Temp\\ipykernel_22640\\4125328956.py:9: FutureWarning: Calling int on a single element Series is deprecated and will raise a TypeError in the future. Use int(ser.iloc[0]) instead\n",
      "  populationAbove7Years = int(population) -int(Total_0_6_Years)\n",
      "C:\\Users\\sakpa\\AppData\\Local\\Temp\\ipykernel_22640\\4125328956.py:17: FutureWarning: Calling int on a single element Series is deprecated and will raise a TypeError in the future. Use int(ser.iloc[0]) instead\n",
      "  literateAbove7Years = int(TotalLiterate) - int(LiterateUpto6Years)\n"
     ]
    },
    {
     "data": {
      "text/plain": [
       "72.9819192069592"
      ]
     },
     "execution_count": 25,
     "metadata": {},
     "output_type": "execute_result"
    }
   ],
   "source": [
    "import pandas as pd \n",
    "\n",
    "census = pd.read_excel('DataSets/census+data.xlsx',header=None)\n",
    "census = census[7:]\n",
    "Total_0_6_Years = census [ (census[5] == '0-6') & (census[4] == 'Total') & (census[3] == 'INDIA')][6]\n",
    "\n",
    "population = census [ (census[5] == 'All ages') & (census[4] == 'Total') & (census[3] == 'INDIA')][6]\n",
    "\n",
    "populationAbove7Years = int(population) -int(Total_0_6_Years)\n",
    "populationAbove7Years\n",
    "\n",
    "# Find Literate above 7 years TotalLiterate - LiterateUpto6Years\n",
    "\n",
    "TotalLiterate = census [ (census[5] == 'All ages') & (census[4] == 'Total') & (census[3] == 'INDIA')][12]\n",
    "LiterateUpto6Years = census [ (census[5] == '0-6') & (census[4] == 'Total') & (census[3] == 'INDIA')][12]\n",
    "\n",
    "literateAbove7Years = int(TotalLiterate) - int(LiterateUpto6Years)\n",
    "literateAbove7Years\n",
    "\n",
    "# Literacy Percentage\n",
    "\n",
    "(literateAbove7Years/populationAbove7Years)*100\n"
   ]
  }
 ],
 "metadata": {
  "kernelspec": {
   "display_name": "base",
   "language": "python",
   "name": "python3"
  },
  "language_info": {
   "codemirror_mode": {
    "name": "ipython",
    "version": 3
   },
   "file_extension": ".py",
   "mimetype": "text/x-python",
   "name": "python",
   "nbconvert_exporter": "python",
   "pygments_lexer": "ipython3",
   "version": "3.11.5"
  }
 },
 "nbformat": 4,
 "nbformat_minor": 2
}
