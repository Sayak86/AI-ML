{
 "cells": [
  {
   "cell_type": "code",
   "execution_count": 19,
   "metadata": {},
   "outputs": [
    {
     "data": {
      "text/plain": [
       "Prefix         0\n",
       "Assignment     2\n",
       "Tutorial      12\n",
       "Midterm       16\n",
       "TakeHome       9\n",
       "Final          5\n",
       "dtype: int64"
      ]
     },
     "execution_count": 19,
     "metadata": {},
     "output_type": "execute_result"
    }
   ],
   "source": [
    "import pandas as pd\n",
    "marks = pd.read_csv('https://media-doselect.s3.amazonaws.com/generic/GZVBQG5pzJeNaL1ve50Rv9YNV/class-grades.csv')\n",
    "marks.head(200)\n",
    "\n",
    "# Count the number of missing values in each column of the dataset 'marks'.\n",
    "marks.isnull().sum()\n",
    "\n"
   ]
  },
  {
   "cell_type": "code",
   "execution_count": 7,
   "metadata": {},
   "outputs": [
    {
     "name": "stdout",
     "output_type": "stream",
     "text": [
      "(97, 6)\n"
     ]
    }
   ],
   "source": [
    "# Remove all the rows in the dataset 'marks' having 5 missing values and then print the number of missing values in each column.\n",
    "\n",
    "import pandas as pd\n",
    "import numpy as np  \n",
    "\n",
    "marks = pd.read_csv('https://media-doselect.s3.amazonaws.com/generic/GZVBQG5pzJeNaL1ve50Rv9YNV/class-grades.csv')\n",
    "rowsWithNull = marks.isna().sum(axis=1).tolist()\n",
    "noOfCol = len(marks.columns)\n",
    "marks1 = marks.dropna(thresh=2)\n",
    "print(marks1.shape)\n",
    "\n"
   ]
  },
  {
   "cell_type": "code",
   "execution_count": null,
   "metadata": {},
   "outputs": [],
   "source": [
    "import pandas as pd\n",
    "customer = pd.read_csv('https://media-doselect.s3.amazonaws.com/generic/9B2ZPE1apMvqrLWx7p8ge9dqX/cust_dimen.csv')\n",
    "# Remove the repeated 'Cust_' from the column Cust_id so that the output column Cust_id have just numbers like 1, 2, 3 and so on.\n",
    "def replaceCust(x):\n",
    "    \n",
    "    return x[5:]\n",
    "\n",
    "customerID = customer['Cust_id'].apply(replaceCust)\n",
    "\n",
    "customer['Cust_id'] =customerID\n",
    "customer.head(10)\n"
   ]
  },
  {
   "cell_type": "code",
   "execution_count": null,
   "metadata": {},
   "outputs": [],
   "source": [
    "import pandas as pd\n",
    "rating = pd.read_csv('https://media-doselect.s3.amazonaws.com/generic/JPAqXRWexo7nybkQ7BjPLWVN/rating_final.csv')\n",
    "rating_update = rating.drop_duplicates()\n",
    "print(rating.shape)\n",
    "print(rating_update.shape)\n"
   ]
  },
  {
   "cell_type": "code",
   "execution_count": 8,
   "metadata": {},
   "outputs": [
    {
     "data": {
      "text/plain": [
       "(array([57., 27., 20., 18., 15., 16., 17., 18.,  8.,  5.,  9.,  3., 10.,\n",
       "        12.,  5.,  1.,  5.,  6.,  5.,  5.,  7.,  1.,  4.,  3.,  3.,  3.,\n",
       "         0.,  3.,  1.,  1.,  0.,  0.,  1.,  0.,  0.,  1.,  0.,  1.,  0.,\n",
       "         1.]),\n",
       " array([  0.,   5.,  10.,  15.,  20.,  25.,  30.,  35.,  40.,  45.,  50.,\n",
       "         55.,  60.,  65.,  70.,  75.,  80.,  85.,  90.,  95., 100., 105.,\n",
       "        110., 115., 120., 125., 130., 135., 140., 145., 150., 155., 160.,\n",
       "        165., 170., 175., 180., 185., 190., 195., 200.]),\n",
       " <BarContainer object of 40 artists>)"
      ]
     },
     "execution_count": 8,
     "metadata": {},
     "output_type": "execute_result"
    },
    {
     "data": {
      "image/png": "[encoded data removed]",
      "text/plain": [
       "<Figure size 640x480 with 1 Axes>"
      ]
     },
     "metadata": {},
     "output_type": "display_data"
    }
   ],
   "source": [
    "import pandas as pd\n",
    "import matplotlib.pyplot as plt \n",
    "import numpy as np \n",
    "\n",
    "tendulkar = pd.read_csv('tendulkar_ODI.csv')\n",
    "\n",
    "\n",
    "# convert runs to int\n",
    "# But before that we drop DNB and TDNB rows as they are not needed for the target plot\n",
    "DNB = tendulkar[  (tendulkar['Runs'] == 'DNB'  ) | (tendulkar['Runs'] == 'TDNB')   ].index.tolist()\n",
    "tendulkarActualRuns = tendulkar.drop( DNB  )\n",
    "# remove not out *\n",
    "\n",
    "tendulkarActualRuns['Runs'] = tendulkarActualRuns.Runs.apply(lambda x : x[:-1] if x[-1] == '*' else x )\n",
    "tendulkarActualRuns.iloc[  25:40 ,:]\n",
    "tendulkarActualRuns['Runs'] =  tendulkarActualRuns['Runs'].astype('int')\n",
    "tendulkarActualRuns.dtypes\n",
    "x = tendulkarActualRuns['Runs']\n",
    "\n",
    "plt.hist(x,bins=40)\n",
    "\n",
    "\n"
   ]
  },
  {
   "cell_type": "code",
   "execution_count": 14,
   "metadata": {},
   "outputs": [
    {
     "data": {
      "text/plain": [
       "(array([69.,  0., 37.,  0., 29.,  0., 25.,  0., 17.,  0., 16.,  0., 14.,\n",
       "         0., 13.,  0., 13.,  0., 15.,  0., 11.,  0.,  4.,  0.,  5.,  0.,\n",
       "         8.,  0.,  3.,  0.,  4.,  0.,  4.,  0.,  1.,  0.,  0.,  0.,  2.,\n",
       "         0.,  1.,  0.,  0.,  0.,  0.,  0.,  0.,  0.,  0.,  1.]),\n",
       " array([ 0. ,  0.5,  1. ,  1.5,  2. ,  2.5,  3. ,  3.5,  4. ,  4.5,  5. ,\n",
       "         5.5,  6. ,  6.5,  7. ,  7.5,  8. ,  8.5,  9. ,  9.5, 10. , 10.5,\n",
       "        11. , 11.5, 12. , 12.5, 13. , 13.5, 14. , 14.5, 15. , 15.5, 16. ,\n",
       "        16.5, 17. , 17.5, 18. , 18.5, 19. , 19.5, 20. , 20.5, 21. , 21.5,\n",
       "        22. , 22.5, 23. , 23.5, 24. , 24.5, 25. ]),\n",
       " <BarContainer object of 50 artists>)"
      ]
     },
     "execution_count": 14,
     "metadata": {},
     "output_type": "execute_result"
    },
    {
     "data": {
      "image/png": "[encoded data removed]",
      "text/plain": [
       "<Figure size 640x480 with 1 Axes>"
      ]
     },
     "metadata": {},
     "output_type": "display_data"
    }
   ],
   "source": [
    "tendulkar.dtypes\n",
    "\n",
    "# Change 4s to int\n",
    "# remove '-'\n",
    "tendulkarActualRuns['4s'] = tendulkarActualRuns['4s'].astype('int')\n",
    "plt.hist(tendulkarActualRuns['4s'],bins=50)"
   ]
  },
  {
   "cell_type": "code",
   "execution_count": 41,
   "metadata": {},
   "outputs": [
    {
     "name": "stdout",
     "output_type": "stream",
     "text": [
      "[1 1 1 2 1 1 1 2 1]\n",
      "3\n"
     ]
    },
    {
     "data": {
      "text/plain": [
       "23"
      ]
     },
     "execution_count": 41,
     "metadata": {},
     "output_type": "execute_result"
    }
   ],
   "source": [
    "lst = [12,23,19,45,43,23,44,33,21,67,45]\n",
    "npArray = np.array(lst)\n",
    "npArray.mean()\n",
    "\n",
    "\n",
    "np.sort(npArray)\n",
    "\n",
    "vals, counts = np.unique(npArray, return_counts=True)\n",
    "\n",
    "print(counts)\n",
    "mode = np.argmax(counts)\n",
    "print(mode)\n",
    "vals[mode]\n"
   ]
  },
  {
   "cell_type": "code",
   "execution_count": 47,
   "metadata": {},
   "outputs": [
    {
     "data": {
      "text/plain": [
       "39.5"
      ]
     },
     "execution_count": 47,
     "metadata": {},
     "output_type": "execute_result"
    }
   ],
   "source": [
    "(np.sort(npArray)[0]+np.sort(npArray)[-1])/2"
   ]
  },
  {
   "cell_type": "code",
   "execution_count": 49,
   "metadata": {},
   "outputs": [
    {
     "data": {
      "text/plain": [
       "16.25"
      ]
     },
     "execution_count": 49,
     "metadata": {},
     "output_type": "execute_result"
    }
   ],
   "source": [
    "(4.375-1)+(4.375-2)+(4.375-2)+(5-4.375)+(5-4.375)+(6-4.375)+(7-4.375)+(7-4.375)"
   ]
  },
  {
   "cell_type": "code",
   "execution_count": 50,
   "metadata": {},
   "outputs": [
    {
     "data": {
      "text/plain": [
       "2.03125"
      ]
     },
     "execution_count": 50,
     "metadata": {},
     "output_type": "execute_result"
    }
   ],
   "source": [
    "16.25/8"
   ]
  },
  {
   "cell_type": "code",
   "execution_count": null,
   "metadata": {},
   "outputs": [],
   "source": [
    "import pandas as pd \n",
    "import matplotlib.pyplot as plt \n",
    "\n",
    "df = pd.read_csv('popularity.csv')\n",
    "df.columns\n",
    "df1 = df[ df[' is_weekend'] == 1 ]\n",
    "df1.head()\n",
    "\n",
    "print(df1[' shares'].quantile(.25))\n",
    "print(df1[' shares'].quantile(.5))\n",
    "print(df1[' shares'].quantile(.75))\n",
    "print(df1[' shares'].quantile(1))\n",
    "\n",
    "df2= df[  (df[' weekday_is_monday' ]==1)  | (df[' weekday_is_tuesday' ]==1) | (df[' weekday_is_wednesday' ]==1) | (df[' weekday_is_thursday' ]==1) | (df[' weekday_is_friday' ]==1)\n",
    "        ]\n",
    "print('---------------------------------------------------------')\n",
    "print(df2[' shares'].quantile(.25))\n",
    "print(df2[' shares'].quantile(.5))\n",
    "print(df2[' shares'].quantile(.75))\n",
    "print(df2[' shares'].quantile(1))\n"
   ]
  },
  {
   "cell_type": "code",
   "execution_count": 55,
   "metadata": {},
   "outputs": [
    {
     "data": {
      "text/plain": [
       "0    7.0\n",
       "Name:  num_keywords, dtype: float64"
      ]
     },
     "execution_count": 55,
     "metadata": {},
     "output_type": "execute_result"
    }
   ],
   "source": [
    "df[' num_keywords'].mode()"
   ]
  },
  {
   "cell_type": "code",
   "execution_count": 24,
   "metadata": {},
   "outputs": [
    {
     "data": {
      "text/plain": [
       "1300.0"
      ]
     },
     "execution_count": 24,
     "metadata": {},
     "output_type": "execute_result"
    }
   ],
   "source": [
    "df[ ' shares'].median()\n"
   ]
  },
  {
   "cell_type": "code",
   "execution_count": 25,
   "metadata": {},
   "outputs": [
    {
     "data": {
      "text/plain": [
       "5500"
      ]
     },
     "execution_count": 25,
     "metadata": {},
     "output_type": "execute_result"
    }
   ],
   "source": [
    "df[' shares'].max()"
   ]
  },
  {
   "cell_type": "code",
   "execution_count": 22,
   "metadata": {},
   "outputs": [
    {
     "name": "stdout",
     "output_type": "stream",
     "text": [
      "<class 'pandas.core.frame.DataFrame'>\n",
      "Index: 35103 entries, 0 to 39643\n",
      "Data columns (total 61 columns):\n",
      " #   Column                          Non-Null Count  Dtype  \n",
      "---  ------                          --------------  -----  \n",
      " 0   url                             35103 non-null  object \n",
      " 1    timedelta                      35103 non-null  float64\n",
      " 2    n_tokens_title                 35103 non-null  float64\n",
      " 3    n_tokens_content               35103 non-null  float64\n",
      " 4    n_unique_tokens                35103 non-null  float64\n",
      " 5    n_non_stop_words               35103 non-null  float64\n",
      " 6    n_non_stop_unique_tokens       35103 non-null  float64\n",
      " 7    num_hrefs                      35103 non-null  float64\n",
      " 8    num_self_hrefs                 35103 non-null  float64\n",
      " 9    num_imgs                       35103 non-null  float64\n",
      " 10   num_videos                     35103 non-null  float64\n",
      " 11   average_token_length           35103 non-null  float64\n",
      " 12   num_keywords                   35103 non-null  float64\n",
      " 13   data_channel_is_lifestyle      35103 non-null  float64\n",
      " 14   data_channel_is_entertainment  35103 non-null  float64\n",
      " 15   data_channel_is_bus            35103 non-null  float64\n",
      " 16   data_channel_is_socmed         35103 non-null  float64\n",
      " 17   data_channel_is_tech           35103 non-null  float64\n",
      " 18   data_channel_is_world          35103 non-null  float64\n",
      " 19   kw_min_min                     35103 non-null  float64\n",
      " 20   kw_max_min                     35103 non-null  float64\n",
      " 21   kw_avg_min                     35103 non-null  float64\n",
      " 22   kw_min_max                     35103 non-null  float64\n",
      " 23   kw_max_max                     35103 non-null  float64\n",
      " 24   kw_avg_max                     35103 non-null  float64\n",
      " 25   kw_min_avg                     35103 non-null  float64\n",
      " 26   kw_max_avg                     35103 non-null  float64\n",
      " 27   kw_avg_avg                     35103 non-null  float64\n",
      " 28   self_reference_min_shares      35103 non-null  float64\n",
      " 29   self_reference_max_shares      35103 non-null  float64\n",
      " 30   self_reference_avg_sharess     35103 non-null  float64\n",
      " 31   weekday_is_monday              35103 non-null  float64\n",
      " 32   weekday_is_tuesday             35103 non-null  float64\n",
      " 33   weekday_is_wednesday           35103 non-null  float64\n",
      " 34   weekday_is_thursday            35103 non-null  float64\n",
      " 35   weekday_is_friday              35103 non-null  float64\n",
      " 36   weekday_is_saturday            35103 non-null  float64\n",
      " 37   weekday_is_sunday              35103 non-null  float64\n",
      " 38   is_weekend                     35103 non-null  float64\n",
      " 39   LDA_00                         35103 non-null  float64\n",
      " 40   LDA_01                         35103 non-null  float64\n",
      " 41   LDA_02                         35103 non-null  float64\n",
      " 42   LDA_03                         35103 non-null  float64\n",
      " 43   LDA_04                         35103 non-null  float64\n",
      " 44   global_subjectivity            35103 non-null  float64\n",
      " 45   global_sentiment_polarity      35103 non-null  float64\n",
      " 46   global_rate_positive_words     35103 non-null  float64\n",
      " 47   global_rate_negative_words     35103 non-null  float64\n",
      " 48   rate_positive_words            35103 non-null  float64\n",
      " 49   rate_negative_words            35103 non-null  float64\n",
      " 50   avg_positive_polarity          35103 non-null  float64\n",
      " 51   min_positive_polarity          35103 non-null  float64\n",
      " 52   max_positive_polarity          35103 non-null  float64\n",
      " 53   avg_negative_polarity          35103 non-null  float64\n",
      " 54   min_negative_polarity          35103 non-null  float64\n",
      " 55   max_negative_polarity          35103 non-null  float64\n",
      " 56   title_subjectivity             35103 non-null  float64\n",
      " 57   title_sentiment_polarity       35103 non-null  float64\n",
      " 58   abs_title_subjectivity         35103 non-null  float64\n",
      " 59   abs_title_sentiment_polarity   35103 non-null  float64\n",
      " 60   shares                         35103 non-null  int64  \n",
      "dtypes: float64(59), int64(1), object(1)\n",
      "memory usage: 16.6+ MB\n"
     ]
    }
   ],
   "source": [
    "df.info()"
   ]
  },
  {
   "cell_type": "code",
   "execution_count": 60,
   "metadata": {},
   "outputs": [
    {
     "name": "stdout",
     "output_type": "stream",
     "text": [
      "3100.0\n"
     ]
    }
   ],
   "source": [
    "print(df[' shares'].quantile(.78))"
   ]
  },
  {
   "cell_type": "code",
   "execution_count": 67,
   "metadata": {},
   "outputs": [
    {
     "data": {
      "text/plain": [
       "{'whiskers': [<matplotlib.lines.Line2D at 0x2350fb57910>,\n",
       "  <matplotlib.lines.Line2D at 0x2350fb38e10>],\n",
       " 'caps': [<matplotlib.lines.Line2D at 0x2350fb3a590>,\n",
       "  <matplotlib.lines.Line2D at 0x2350fb3bc10>],\n",
       " 'boxes': [<matplotlib.lines.Line2D at 0x2350fb56590>],\n",
       " 'medians': [<matplotlib.lines.Line2D at 0x2350fb39210>],\n",
       " 'fliers': [<matplotlib.lines.Line2D at 0x235134eb550>],\n",
       " 'means': []}"
      ]
     },
     "execution_count": 67,
     "metadata": {},
     "output_type": "execute_result"
    },
    {
     "data": {
      "image/png": "[encoded data removed]",
      "text/plain": [
       "<Figure size 640x480 with 1 Axes>"
      ]
     },
     "metadata": {},
     "output_type": "display_data"
    }
   ],
   "source": [
    "plt.boxplot(df[' shares'])"
   ]
  },
  {
   "cell_type": "code",
   "execution_count": null,
   "metadata": {},
   "outputs": [],
   "source": [
    "print(df[ ' shares'].mean())\n",
    "print(df[ ' shares'].quantile(.99))\n",
    "print(df[ ' shares'].quantile(1))\n",
    "\n",
    "print(df[ ' shares'].quantile(.19))\n",
    "print(df[ ' shares'].quantile(.8))\n",
    "print(df[ ' shares'].quantile(.9))\n",
    "print(df[ ' shares'].quantile(.91))\n",
    "print(df[ ' shares'].quantile(.92))\n",
    "print(df[ ' shares'].quantile(.93))\n",
    "print(df[ ' shares'].quantile(.94))\n",
    "print(df[ ' shares'].quantile(.95))\n",
    "print(df[ ' shares'].quantile(.96))\n",
    "print(df[ ' shares'].quantile(.97))\n",
    "print(df[ ' shares'].quantile(.98))"
   ]
  },
  {
   "cell_type": "code",
   "execution_count": 95,
   "metadata": {},
   "outputs": [
    {
     "data": {
      "text/plain": [
       "[12700.0, 15700.0, 20500.0, 31656.99999999997, 1]"
      ]
     },
     "execution_count": 95,
     "metadata": {},
     "output_type": "execute_result"
    }
   ],
   "source": [
    "Q96 = df[ ' shares'].quantile(0.96)\n",
    "Q97 = df[ ' shares'].quantile(0.97)\n",
    "Q98 = df[ ' shares'].quantile(0.98)\n",
    "Q99 = df[ ' shares'].quantile(0.99)\n",
    "Q100 = df[ ' shares'].quantile(1)\n",
    "\n",
    "lst = []\n",
    "lst.append(Q96)\n",
    "lst.append(Q97)\n",
    "lst.append(Q98)\n",
    "lst.append(Q99)\n",
    "lst.append(1)\n",
    "\n",
    "lst\n",
    "\n",
    "df.drop( 'A' )\n",
    "\n",
    "\n",
    "\n"
   ]
  },
  {
   "cell_type": "code",
   "execution_count": 101,
   "metadata": {},
   "outputs": [
    {
     "data": {
      "text/html": [
       "<div>\n",
       "<style scoped>\n",
       "    .dataframe tbody tr th:only-of-type {\n",
       "        vertical-align: middle;\n",
       "    }\n",
       "\n",
       "    .dataframe tbody tr th {\n",
       "        vertical-align: top;\n",
       "    }\n",
       "\n",
       "    .dataframe thead th {\n",
       "        text-align: right;\n",
       "    }\n",
       "</style>\n",
       "<table border=\"1\" class=\"dataframe\">\n",
       "  <thead>\n",
       "    <tr style=\"text-align: right;\">\n",
       "      <th></th>\n",
       "      <th>url</th>\n",
       "      <th>timedelta</th>\n",
       "      <th>n_tokens_title</th>\n",
       "      <th>n_tokens_content</th>\n",
       "      <th>n_unique_tokens</th>\n",
       "      <th>n_non_stop_words</th>\n",
       "      <th>n_non_stop_unique_tokens</th>\n",
       "      <th>num_hrefs</th>\n",
       "      <th>num_self_hrefs</th>\n",
       "      <th>num_imgs</th>\n",
       "      <th>...</th>\n",
       "      <th>min_positive_polarity</th>\n",
       "      <th>max_positive_polarity</th>\n",
       "      <th>avg_negative_polarity</th>\n",
       "      <th>min_negative_polarity</th>\n",
       "      <th>max_negative_polarity</th>\n",
       "      <th>title_subjectivity</th>\n",
       "      <th>title_sentiment_polarity</th>\n",
       "      <th>abs_title_subjectivity</th>\n",
       "      <th>abs_title_sentiment_polarity</th>\n",
       "      <th>shares</th>\n",
       "    </tr>\n",
       "  </thead>\n",
       "  <tbody>\n",
       "  </tbody>\n",
       "</table>\n",
       "<p>0 rows × 61 columns</p>\n",
       "</div>"
      ],
      "text/plain": [
       "Empty DataFrame\n",
       "Columns: [url,  timedelta,  n_tokens_title,  n_tokens_content,  n_unique_tokens,  n_non_stop_words,  n_non_stop_unique_tokens,  num_hrefs,  num_self_hrefs,  num_imgs,  num_videos,  average_token_length,  num_keywords,  data_channel_is_lifestyle,  data_channel_is_entertainment,  data_channel_is_bus,  data_channel_is_socmed,  data_channel_is_tech,  data_channel_is_world,  kw_min_min,  kw_max_min,  kw_avg_min,  kw_min_max,  kw_max_max,  kw_avg_max,  kw_min_avg,  kw_max_avg,  kw_avg_avg,  self_reference_min_shares,  self_reference_max_shares,  self_reference_avg_sharess,  weekday_is_monday,  weekday_is_tuesday,  weekday_is_wednesday,  weekday_is_thursday,  weekday_is_friday,  weekday_is_saturday,  weekday_is_sunday,  is_weekend,  LDA_00,  LDA_01,  LDA_02,  LDA_03,  LDA_04,  global_subjectivity,  global_sentiment_polarity,  global_rate_positive_words,  global_rate_negative_words,  rate_positive_words,  rate_negative_words,  avg_positive_polarity,  min_positive_polarity,  max_positive_polarity,  avg_negative_polarity,  min_negative_polarity,  max_negative_polarity,  title_subjectivity,  title_sentiment_polarity,  abs_title_subjectivity,  abs_title_sentiment_polarity,  shares]\n",
       "Index: []\n",
       "\n",
       "[0 rows x 61 columns]"
      ]
     },
     "execution_count": 101,
     "metadata": {},
     "output_type": "execute_result"
    }
   ],
   "source": [
    "df.drop(df[' shares'].isin(lst).index)"
   ]
  },
  {
   "cell_type": "code",
   "execution_count": 19,
   "metadata": {},
   "outputs": [
    {
     "name": "stdout",
     "output_type": "stream",
     "text": [
      "mean value before outliers removal  3395.3801836343455\n",
      "mean value after  outliers removal  1671.9726519100932\n",
      "95th percentile share is 4200.0\n",
      "35103\n",
      "35103\n"
     ]
    }
   ],
   "source": [
    "import pandas as pd \n",
    "import matplotlib.pyplot as plt \n",
    "import numpy as np \n",
    "\n",
    "df = pd.read_csv('popularity.csv')\n",
    "print('mean value before outliers removal ',df[' shares'].mean())\n",
    "\n",
    "# -----------------------------------------------------------------------------------\n",
    "# outliers removal\n",
    "# All shares after 95 percentile are treated as outliers\n",
    "# ------------------------------------------------------------------------------------\n",
    "\n",
    "\n",
    "\n",
    "Q1 = df[' shares'].quantile(0.25)\n",
    "Q3 = df[' shares'].quantile(0.75)\n",
    "IQR = Q3 - Q1\n",
    "\n",
    "df = df[~((df[' shares'] < (Q1 - 1.5 * IQR)) |(df[' shares'] > (Q3 + 1.5 * IQR)))]\n",
    "print('mean value after  outliers removal ',df[' shares'].mean())\n",
    "\n",
    "\n",
    "# ----- Calculate 95th percentile ------------\n",
    "Q95 = df[' shares'].quantile(.95)\n",
    "print(f'95th percentile share is {Q95}')\n",
    "\n",
    "#----- Get all shares less than 10800 ---\n",
    "\n",
    "npshares = np.array(df[' shares'])\n",
    "print(len(npshares))\n",
    "\n",
    "filterShares = list(filter( lambda x: x<10800  ,npshares))\n",
    "\n",
    "print(len(filterShares))\n"
   ]
  },
  {
   "cell_type": "code",
   "execution_count": 35,
   "metadata": {},
   "outputs": [
    {
     "data": {
      "text/plain": [
       "5500"
      ]
     },
     "execution_count": 35,
     "metadata": {},
     "output_type": "execute_result"
    }
   ],
   "source": [
    "df1 = df[df[ ' shares']<10800]\n",
    "df1.shape\n",
    "df[' shares'].quantile(1)\n",
    "df[' shares'].max()"
   ]
  }
 ],
 "metadata": {
  "kernelspec": {
   "display_name": "base",
   "language": "python",
   "name": "python3"
  },
  "language_info": {
   "codemirror_mode": {
    "name": "ipython",
    "version": 3
   },
   "file_extension": ".py",
   "mimetype": "text/x-python",
   "name": "python",
   "nbconvert_exporter": "python",
   "pygments_lexer": "ipython3",
   "version": "3.11.5"
  }
 },
 "nbformat": 4,
 "nbformat_minor": 2
}
